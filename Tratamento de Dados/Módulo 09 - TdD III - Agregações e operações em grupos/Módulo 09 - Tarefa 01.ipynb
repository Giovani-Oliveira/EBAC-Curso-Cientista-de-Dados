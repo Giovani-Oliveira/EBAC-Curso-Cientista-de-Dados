{
 "cells": [
  {
   "cell_type": "markdown",
   "metadata": {},
   "source": [
    "# Livro para consulta:\n",
    "- https://jakevdp.github.io/PythonDataScienceHandbook/03.08-aggregation-and-grouping.html\n",
    "- https://jakevdp.github.io/PythonDataScienceHandbook/03.09-pivot-tables.html\n",
    "    "
   ]
  },
  {
   "cell_type": "markdown",
   "metadata": {},
   "source": [
    "# 1. Importando bibliotecas <a name=\"import\"></a>\n",
    "\n",
    "<div style=\"text-align: right\"\n",
    "     \n",
    "[Voltar ao índice](#Contents)"
   ]
  },
  {
   "cell_type": "code",
   "execution_count": 1,
   "metadata": {
    "ExecuteTime": {
     "end_time": "2021-06-06T21:12:37.298706Z",
     "start_time": "2021-06-06T21:12:36.656481Z"
    }
   },
   "outputs": [],
   "source": [
    "import numpy as np\n",
    "import pandas as pd\n",
    "import seaborn as sns\n",
    "import matplotlib.pyplot as plt\n",
    "\n",
    "%matplotlib inline"
   ]
  },
  {
   "cell_type": "code",
   "execution_count": null,
   "metadata": {},
   "outputs": [],
   "source": []
  },
  {
   "cell_type": "markdown",
   "metadata": {},
   "source": [
    "# 2. Carregando o dataframe SINASC <a name=\"read\"></a>\n",
    "<div style=\"text-align: right\"\n",
    "     \n",
    "[Voltar ao índice](#Contents)"
   ]
  },
  {
   "cell_type": "code",
   "execution_count": 3,
   "metadata": {
    "ExecuteTime": {
     "end_time": "2021-06-06T21:12:37.762376Z",
     "start_time": "2021-06-06T21:12:37.728383Z"
    },
    "scrolled": true
   },
   "outputs": [
    {
     "data": {
      "text/html": [
       "<div>\n",
       "<style scoped>\n",
       "    .dataframe tbody tr th:only-of-type {\n",
       "        vertical-align: middle;\n",
       "    }\n",
       "\n",
       "    .dataframe tbody tr th {\n",
       "        vertical-align: top;\n",
       "    }\n",
       "\n",
       "    .dataframe thead th {\n",
       "        text-align: right;\n",
       "    }\n",
       "</style>\n",
       "<table border=\"1\" class=\"dataframe\">\n",
       "  <thead>\n",
       "    <tr style=\"text-align: right;\">\n",
       "      <th></th>\n",
       "      <th>ORIGEM</th>\n",
       "      <th>CODESTAB</th>\n",
       "      <th>CODMUNNASC</th>\n",
       "      <th>LOCNASC</th>\n",
       "      <th>IDADEMAE</th>\n",
       "      <th>ESTCIVMAE</th>\n",
       "      <th>ESCMAE</th>\n",
       "      <th>CODOCUPMAE</th>\n",
       "      <th>QTDFILVIVO</th>\n",
       "      <th>QTDFILMORT</th>\n",
       "      <th>...</th>\n",
       "      <th>KOTELCHUCK</th>\n",
       "      <th>CONTADOR</th>\n",
       "      <th>munResStatus</th>\n",
       "      <th>munResTipo</th>\n",
       "      <th>munResNome</th>\n",
       "      <th>munResUf</th>\n",
       "      <th>munResLat</th>\n",
       "      <th>munResLon</th>\n",
       "      <th>munResAlt</th>\n",
       "      <th>munResArea</th>\n",
       "    </tr>\n",
       "  </thead>\n",
       "  <tbody>\n",
       "    <tr>\n",
       "      <th>0</th>\n",
       "      <td>1</td>\n",
       "      <td>2679477.0</td>\n",
       "      <td>110001</td>\n",
       "      <td>1</td>\n",
       "      <td>19</td>\n",
       "      <td>5.0</td>\n",
       "      <td>8 a 11 anos</td>\n",
       "      <td>NaN</td>\n",
       "      <td>0.0</td>\n",
       "      <td>0.0</td>\n",
       "      <td>...</td>\n",
       "      <td>5</td>\n",
       "      <td>1</td>\n",
       "      <td>ATIVO</td>\n",
       "      <td>MUNIC</td>\n",
       "      <td>Alta Floresta D'Oeste</td>\n",
       "      <td>Rondônia</td>\n",
       "      <td>-11.93554</td>\n",
       "      <td>-61.99982</td>\n",
       "      <td>338.0</td>\n",
       "      <td>7067.025</td>\n",
       "    </tr>\n",
       "    <tr>\n",
       "      <th>1</th>\n",
       "      <td>1</td>\n",
       "      <td>2679477.0</td>\n",
       "      <td>110001</td>\n",
       "      <td>1</td>\n",
       "      <td>29</td>\n",
       "      <td>2.0</td>\n",
       "      <td>8 a 11 anos</td>\n",
       "      <td>999992.0</td>\n",
       "      <td>1.0</td>\n",
       "      <td>0.0</td>\n",
       "      <td>...</td>\n",
       "      <td>5</td>\n",
       "      <td>2</td>\n",
       "      <td>ATIVO</td>\n",
       "      <td>MUNIC</td>\n",
       "      <td>Alta Floresta D'Oeste</td>\n",
       "      <td>Rondônia</td>\n",
       "      <td>-11.93554</td>\n",
       "      <td>-61.99982</td>\n",
       "      <td>338.0</td>\n",
       "      <td>7067.025</td>\n",
       "    </tr>\n",
       "    <tr>\n",
       "      <th>2</th>\n",
       "      <td>1</td>\n",
       "      <td>2679477.0</td>\n",
       "      <td>110001</td>\n",
       "      <td>1</td>\n",
       "      <td>37</td>\n",
       "      <td>9.0</td>\n",
       "      <td>8 a 11 anos</td>\n",
       "      <td>513205.0</td>\n",
       "      <td>2.0</td>\n",
       "      <td>0.0</td>\n",
       "      <td>...</td>\n",
       "      <td>5</td>\n",
       "      <td>3</td>\n",
       "      <td>ATIVO</td>\n",
       "      <td>MUNIC</td>\n",
       "      <td>Alta Floresta D'Oeste</td>\n",
       "      <td>Rondônia</td>\n",
       "      <td>-11.93554</td>\n",
       "      <td>-61.99982</td>\n",
       "      <td>338.0</td>\n",
       "      <td>7067.025</td>\n",
       "    </tr>\n",
       "    <tr>\n",
       "      <th>3</th>\n",
       "      <td>1</td>\n",
       "      <td>2516500.0</td>\n",
       "      <td>110001</td>\n",
       "      <td>1</td>\n",
       "      <td>30</td>\n",
       "      <td>5.0</td>\n",
       "      <td>12 anos ou mais</td>\n",
       "      <td>231205.0</td>\n",
       "      <td>0.0</td>\n",
       "      <td>0.0</td>\n",
       "      <td>...</td>\n",
       "      <td>4</td>\n",
       "      <td>4</td>\n",
       "      <td>ATIVO</td>\n",
       "      <td>MUNIC</td>\n",
       "      <td>Alto Alegre dos Parecis</td>\n",
       "      <td>Rondônia</td>\n",
       "      <td>-12.13178</td>\n",
       "      <td>-61.85308</td>\n",
       "      <td>397.0</td>\n",
       "      <td>3958.273</td>\n",
       "    </tr>\n",
       "    <tr>\n",
       "      <th>4</th>\n",
       "      <td>1</td>\n",
       "      <td>2516500.0</td>\n",
       "      <td>110001</td>\n",
       "      <td>1</td>\n",
       "      <td>30</td>\n",
       "      <td>2.0</td>\n",
       "      <td>8 a 11 anos</td>\n",
       "      <td>999992.0</td>\n",
       "      <td>1.0</td>\n",
       "      <td>0.0</td>\n",
       "      <td>...</td>\n",
       "      <td>5</td>\n",
       "      <td>5</td>\n",
       "      <td>ATIVO</td>\n",
       "      <td>MUNIC</td>\n",
       "      <td>Alta Floresta D'Oeste</td>\n",
       "      <td>Rondônia</td>\n",
       "      <td>-11.93554</td>\n",
       "      <td>-61.99982</td>\n",
       "      <td>338.0</td>\n",
       "      <td>7067.025</td>\n",
       "    </tr>\n",
       "  </tbody>\n",
       "</table>\n",
       "<p>5 rows × 69 columns</p>\n",
       "</div>"
      ],
      "text/plain": [
       "   ORIGEM   CODESTAB  CODMUNNASC  LOCNASC  IDADEMAE  ESTCIVMAE  \\\n",
       "0       1  2679477.0      110001        1        19        5.0   \n",
       "1       1  2679477.0      110001        1        29        2.0   \n",
       "2       1  2679477.0      110001        1        37        9.0   \n",
       "3       1  2516500.0      110001        1        30        5.0   \n",
       "4       1  2516500.0      110001        1        30        2.0   \n",
       "\n",
       "            ESCMAE  CODOCUPMAE  QTDFILVIVO  QTDFILMORT  ...  KOTELCHUCK  \\\n",
       "0      8 a 11 anos         NaN         0.0         0.0  ...           5   \n",
       "1      8 a 11 anos    999992.0         1.0         0.0  ...           5   \n",
       "2      8 a 11 anos    513205.0         2.0         0.0  ...           5   \n",
       "3  12 anos ou mais    231205.0         0.0         0.0  ...           4   \n",
       "4      8 a 11 anos    999992.0         1.0         0.0  ...           5   \n",
       "\n",
       "  CONTADOR munResStatus munResTipo               munResNome  munResUf  \\\n",
       "0        1        ATIVO      MUNIC    Alta Floresta D'Oeste  Rondônia   \n",
       "1        2        ATIVO      MUNIC    Alta Floresta D'Oeste  Rondônia   \n",
       "2        3        ATIVO      MUNIC    Alta Floresta D'Oeste  Rondônia   \n",
       "3        4        ATIVO      MUNIC  Alto Alegre dos Parecis  Rondônia   \n",
       "4        5        ATIVO      MUNIC    Alta Floresta D'Oeste  Rondônia   \n",
       "\n",
       "   munResLat munResLon  munResAlt  munResArea  \n",
       "0  -11.93554 -61.99982      338.0    7067.025  \n",
       "1  -11.93554 -61.99982      338.0    7067.025  \n",
       "2  -11.93554 -61.99982      338.0    7067.025  \n",
       "3  -12.13178 -61.85308      397.0    3958.273  \n",
       "4  -11.93554 -61.99982      338.0    7067.025  \n",
       "\n",
       "[5 rows x 69 columns]"
      ]
     },
     "execution_count": 3,
     "metadata": {},
     "output_type": "execute_result"
    }
   ],
   "source": [
    "sinasc_raw = pd.read_csv('SINASC_RO_2019.csv')\n",
    "sinasc_raw.head()"
   ]
  },
  {
   "cell_type": "code",
   "execution_count": 4,
   "metadata": {},
   "outputs": [
    {
     "name": "stdout",
     "output_type": "stream",
     "text": [
      "<class 'pandas.core.frame.DataFrame'>\n",
      "RangeIndex: 27028 entries, 0 to 27027\n",
      "Data columns (total 69 columns):\n",
      " #   Column        Non-Null Count  Dtype  \n",
      "---  ------        --------------  -----  \n",
      " 0   ORIGEM        27028 non-null  int64  \n",
      " 1   CODESTAB      26913 non-null  float64\n",
      " 2   CODMUNNASC    27028 non-null  int64  \n",
      " 3   LOCNASC       27028 non-null  int64  \n",
      " 4   IDADEMAE      27028 non-null  int64  \n",
      " 5   ESTCIVMAE     26711 non-null  float64\n",
      " 6   ESCMAE        26716 non-null  object \n",
      " 7   CODOCUPMAE    24121 non-null  float64\n",
      " 8   QTDFILVIVO    25455 non-null  float64\n",
      " 9   QTDFILMORT    24930 non-null  float64\n",
      " 10  CODMUNRES     27028 non-null  int64  \n",
      " 11  GESTACAO      25796 non-null  object \n",
      " 12  GRAVIDEZ      26949 non-null  object \n",
      " 13  PARTO         26979 non-null  object \n",
      " 14  CONSULTAS     27028 non-null  int64  \n",
      " 15  DTNASC        27028 non-null  object \n",
      " 16  HORANASC      27007 non-null  float64\n",
      " 17  SEXO          27024 non-null  object \n",
      " 18  APGAR1        26932 non-null  float64\n",
      " 19  APGAR5        26925 non-null  float64\n",
      " 20  RACACOR       26381 non-null  object \n",
      " 21  PESO          27028 non-null  int64  \n",
      " 22  IDANOMAL      26437 non-null  float64\n",
      " 23  DTCADASTRO    27028 non-null  object \n",
      " 24  CODANOMAL     214 non-null    object \n",
      " 25  NUMEROLOTE    27028 non-null  int64  \n",
      " 26  VERSAOSIST    27028 non-null  object \n",
      " 27  DTRECEBIM     27028 non-null  object \n",
      " 28  DIFDATA       27028 non-null  int64  \n",
      " 29  DTRECORIGA    0 non-null      float64\n",
      " 30  NATURALMAE    26730 non-null  float64\n",
      " 31  CODMUNNATU    26730 non-null  float64\n",
      " 32  CODUFNATU     26730 non-null  float64\n",
      " 33  ESCMAE2010    26779 non-null  float64\n",
      " 34  SERIESCMAE    14318 non-null  float64\n",
      " 35  DTNASCMAE     26988 non-null  float64\n",
      " 36  RACACORMAE    26367 non-null  float64\n",
      " 37  QTDGESTANT    25816 non-null  float64\n",
      " 38  QTDPARTNOR    25149 non-null  float64\n",
      " 39  QTDPARTCES    25237 non-null  float64\n",
      " 40  IDADEPAI      7607 non-null   float64\n",
      " 41  DTULTMENST    16956 non-null  float64\n",
      " 42  SEMAGESTAC    25790 non-null  float64\n",
      " 43  TPMETESTIM    25790 non-null  float64\n",
      " 44  CONSPRENAT    26098 non-null  float64\n",
      " 45  MESPRENAT     24161 non-null  float64\n",
      " 46  TPAPRESENT    26763 non-null  float64\n",
      " 47  STTRABPART    26081 non-null  float64\n",
      " 48  STCESPARTO    26281 non-null  float64\n",
      " 49  TPNASCASSI    26967 non-null  float64\n",
      " 50  TPFUNCRESP    26961 non-null  float64\n",
      " 51  TPDOCRESP     27014 non-null  float64\n",
      " 52  DTDECLARAC    26976 non-null  float64\n",
      " 53  ESCMAEAGR1    26779 non-null  float64\n",
      " 54  STDNEPIDEM    27028 non-null  int64  \n",
      " 55  STDNNOVA      27028 non-null  int64  \n",
      " 56  CODPAISRES    27028 non-null  int64  \n",
      " 57  TPROBSON      27028 non-null  int64  \n",
      " 58  PARIDADE      27028 non-null  int64  \n",
      " 59  KOTELCHUCK    27028 non-null  int64  \n",
      " 60  CONTADOR      27028 non-null  int64  \n",
      " 61  munResStatus  27028 non-null  object \n",
      " 62  munResTipo    27028 non-null  object \n",
      " 63  munResNome    27028 non-null  object \n",
      " 64  munResUf      27028 non-null  object \n",
      " 65  munResLat     27027 non-null  float64\n",
      " 66  munResLon     27027 non-null  float64\n",
      " 67  munResAlt     27027 non-null  float64\n",
      " 68  munResArea    27027 non-null  float64\n",
      "dtypes: float64(38), int64(16), object(15)\n",
      "memory usage: 14.2+ MB\n"
     ]
    }
   ],
   "source": [
    "sinasc_raw.info()"
   ]
  },
  {
   "cell_type": "code",
   "execution_count": null,
   "metadata": {},
   "outputs": [],
   "source": []
  },
  {
   "cell_type": "markdown",
   "metadata": {},
   "source": [
    "# Tarefa 1"
   ]
  },
  {
   "cell_type": "markdown",
   "metadata": {},
   "source": [
    "### 1. Idade media das mães e dos pais por município (coluna munResNome)\n"
   ]
  },
  {
   "cell_type": "code",
   "execution_count": 21,
   "metadata": {},
   "outputs": [],
   "source": [
    "sinasc_a = sinasc_raw[['IDADEMAE', 'IDADEPAI', 'munResNome']]\n",
    "sinasc_b = sinasc_a.drop(sinasc_a[sinasc_a['munResNome']=='Município ignorado - RO'].index)"
   ]
  },
  {
   "cell_type": "code",
   "execution_count": 22,
   "metadata": {},
   "outputs": [
    {
     "data": {
      "text/html": [
       "<div>\n",
       "<style scoped>\n",
       "    .dataframe tbody tr th:only-of-type {\n",
       "        vertical-align: middle;\n",
       "    }\n",
       "\n",
       "    .dataframe tbody tr th {\n",
       "        vertical-align: top;\n",
       "    }\n",
       "\n",
       "    .dataframe thead th {\n",
       "        text-align: right;\n",
       "    }\n",
       "</style>\n",
       "<table border=\"1\" class=\"dataframe\">\n",
       "  <thead>\n",
       "    <tr style=\"text-align: right;\">\n",
       "      <th></th>\n",
       "      <th>IDADEMAE</th>\n",
       "      <th>IDADEPAI</th>\n",
       "    </tr>\n",
       "    <tr>\n",
       "      <th>munResNome</th>\n",
       "      <th></th>\n",
       "      <th></th>\n",
       "    </tr>\n",
       "  </thead>\n",
       "  <tbody>\n",
       "    <tr>\n",
       "      <th>Alta Floresta D'Oeste</th>\n",
       "      <td>25.991826</td>\n",
       "      <td>29.548701</td>\n",
       "    </tr>\n",
       "    <tr>\n",
       "      <th>Alto Alegre dos Parecis</th>\n",
       "      <td>24.844156</td>\n",
       "      <td>29.179104</td>\n",
       "    </tr>\n",
       "    <tr>\n",
       "      <th>Alto Paraíso</th>\n",
       "      <td>24.960177</td>\n",
       "      <td>28.833333</td>\n",
       "    </tr>\n",
       "    <tr>\n",
       "      <th>Alvorada D'Oeste</th>\n",
       "      <td>25.770732</td>\n",
       "      <td>30.757282</td>\n",
       "    </tr>\n",
       "    <tr>\n",
       "      <th>Ariquemes</th>\n",
       "      <td>25.607866</td>\n",
       "      <td>32.466667</td>\n",
       "    </tr>\n",
       "    <tr>\n",
       "      <th>Buritis</th>\n",
       "      <td>25.559177</td>\n",
       "      <td>30.812500</td>\n",
       "    </tr>\n",
       "    <tr>\n",
       "      <th>Cabixi</th>\n",
       "      <td>26.037500</td>\n",
       "      <td>34.333333</td>\n",
       "    </tr>\n",
       "    <tr>\n",
       "      <th>Cacaulândia</th>\n",
       "      <td>25.546667</td>\n",
       "      <td>36.333333</td>\n",
       "    </tr>\n",
       "    <tr>\n",
       "      <th>Cacoal</th>\n",
       "      <td>26.890102</td>\n",
       "      <td>30.931854</td>\n",
       "    </tr>\n",
       "    <tr>\n",
       "      <th>Campo Novo de Rondônia</th>\n",
       "      <td>24.825301</td>\n",
       "      <td>30.500000</td>\n",
       "    </tr>\n",
       "    <tr>\n",
       "      <th>Candeias do Jamari</th>\n",
       "      <td>25.243323</td>\n",
       "      <td>29.894737</td>\n",
       "    </tr>\n",
       "    <tr>\n",
       "      <th>Castanheiras</th>\n",
       "      <td>27.281250</td>\n",
       "      <td>30.392857</td>\n",
       "    </tr>\n",
       "    <tr>\n",
       "      <th>Cerejeiras</th>\n",
       "      <td>27.240506</td>\n",
       "      <td>31.652778</td>\n",
       "    </tr>\n",
       "    <tr>\n",
       "      <th>Chupinguaia</th>\n",
       "      <td>25.333333</td>\n",
       "      <td>29.629630</td>\n",
       "    </tr>\n",
       "    <tr>\n",
       "      <th>Colorado do Oeste</th>\n",
       "      <td>27.602804</td>\n",
       "      <td>34.354839</td>\n",
       "    </tr>\n",
       "    <tr>\n",
       "      <th>Corumbiara</th>\n",
       "      <td>24.716535</td>\n",
       "      <td>32.470588</td>\n",
       "    </tr>\n",
       "    <tr>\n",
       "      <th>Costa Marques</th>\n",
       "      <td>24.412017</td>\n",
       "      <td>30.613636</td>\n",
       "    </tr>\n",
       "    <tr>\n",
       "      <th>Cujubim</th>\n",
       "      <td>24.482927</td>\n",
       "      <td>31.400000</td>\n",
       "    </tr>\n",
       "    <tr>\n",
       "      <th>Espigão D'Oeste</th>\n",
       "      <td>26.093333</td>\n",
       "      <td>31.198113</td>\n",
       "    </tr>\n",
       "    <tr>\n",
       "      <th>Governador Jorge Teixeira</th>\n",
       "      <td>24.401786</td>\n",
       "      <td>29.222222</td>\n",
       "    </tr>\n",
       "    <tr>\n",
       "      <th>Guajará-Mirim</th>\n",
       "      <td>25.462228</td>\n",
       "      <td>30.470588</td>\n",
       "    </tr>\n",
       "    <tr>\n",
       "      <th>Itapuã do Oeste</th>\n",
       "      <td>26.064220</td>\n",
       "      <td>42.500000</td>\n",
       "    </tr>\n",
       "    <tr>\n",
       "      <th>Jaru</th>\n",
       "      <td>25.982974</td>\n",
       "      <td>32.197183</td>\n",
       "    </tr>\n",
       "    <tr>\n",
       "      <th>Ji-Paraná</th>\n",
       "      <td>26.361137</td>\n",
       "      <td>31.132239</td>\n",
       "    </tr>\n",
       "    <tr>\n",
       "      <th>Machadinho D'Oeste</th>\n",
       "      <td>25.480000</td>\n",
       "      <td>31.326923</td>\n",
       "    </tr>\n",
       "    <tr>\n",
       "      <th>Ministro Andreazza</th>\n",
       "      <td>27.904762</td>\n",
       "      <td>33.849315</td>\n",
       "    </tr>\n",
       "    <tr>\n",
       "      <th>Mirante da Serra</th>\n",
       "      <td>26.304878</td>\n",
       "      <td>32.154762</td>\n",
       "    </tr>\n",
       "    <tr>\n",
       "      <th>Monte Negro</th>\n",
       "      <td>25.648241</td>\n",
       "      <td>34.678571</td>\n",
       "    </tr>\n",
       "    <tr>\n",
       "      <th>Nova Brasilândia D'Oeste</th>\n",
       "      <td>26.222222</td>\n",
       "      <td>30.520833</td>\n",
       "    </tr>\n",
       "    <tr>\n",
       "      <th>Nova Mamoré</th>\n",
       "      <td>25.326389</td>\n",
       "      <td>31.692308</td>\n",
       "    </tr>\n",
       "    <tr>\n",
       "      <th>Nova União</th>\n",
       "      <td>26.894231</td>\n",
       "      <td>31.371429</td>\n",
       "    </tr>\n",
       "    <tr>\n",
       "      <th>Novo Horizonte do Oeste</th>\n",
       "      <td>26.938776</td>\n",
       "      <td>31.588235</td>\n",
       "    </tr>\n",
       "    <tr>\n",
       "      <th>Ouro Preto do Oeste</th>\n",
       "      <td>26.375594</td>\n",
       "      <td>31.233244</td>\n",
       "    </tr>\n",
       "    <tr>\n",
       "      <th>Parecis</th>\n",
       "      <td>26.454545</td>\n",
       "      <td>32.473684</td>\n",
       "    </tr>\n",
       "    <tr>\n",
       "      <th>Pimenta Bueno</th>\n",
       "      <td>25.199675</td>\n",
       "      <td>29.745174</td>\n",
       "    </tr>\n",
       "    <tr>\n",
       "      <th>Pimenteiras do Oeste</th>\n",
       "      <td>25.075000</td>\n",
       "      <td>35.600000</td>\n",
       "    </tr>\n",
       "    <tr>\n",
       "      <th>Porto Velho</th>\n",
       "      <td>26.312670</td>\n",
       "      <td>32.352679</td>\n",
       "    </tr>\n",
       "    <tr>\n",
       "      <th>Presidente Médici</th>\n",
       "      <td>25.796053</td>\n",
       "      <td>30.150754</td>\n",
       "    </tr>\n",
       "    <tr>\n",
       "      <th>Primavera de Rondônia</th>\n",
       "      <td>27.023256</td>\n",
       "      <td>31.888889</td>\n",
       "    </tr>\n",
       "    <tr>\n",
       "      <th>Rio Crespo</th>\n",
       "      <td>26.660000</td>\n",
       "      <td>28.000000</td>\n",
       "    </tr>\n",
       "    <tr>\n",
       "      <th>Rolim de Moura</th>\n",
       "      <td>26.600863</td>\n",
       "      <td>30.360479</td>\n",
       "    </tr>\n",
       "    <tr>\n",
       "      <th>Santa Luzia D'Oeste</th>\n",
       "      <td>26.121212</td>\n",
       "      <td>30.703297</td>\n",
       "    </tr>\n",
       "    <tr>\n",
       "      <th>Seringueiras</th>\n",
       "      <td>24.910714</td>\n",
       "      <td>30.500000</td>\n",
       "    </tr>\n",
       "    <tr>\n",
       "      <th>São Felipe D'Oeste</th>\n",
       "      <td>26.481481</td>\n",
       "      <td>31.395833</td>\n",
       "    </tr>\n",
       "    <tr>\n",
       "      <th>São Francisco do Guaporé</th>\n",
       "      <td>25.660066</td>\n",
       "      <td>31.638889</td>\n",
       "    </tr>\n",
       "    <tr>\n",
       "      <th>São Miguel do Guaporé</th>\n",
       "      <td>25.926346</td>\n",
       "      <td>32.666667</td>\n",
       "    </tr>\n",
       "    <tr>\n",
       "      <th>Teixeirópolis</th>\n",
       "      <td>26.031250</td>\n",
       "      <td>31.500000</td>\n",
       "    </tr>\n",
       "    <tr>\n",
       "      <th>Theobroma</th>\n",
       "      <td>25.536082</td>\n",
       "      <td>30.083333</td>\n",
       "    </tr>\n",
       "    <tr>\n",
       "      <th>Urupá</th>\n",
       "      <td>26.688235</td>\n",
       "      <td>31.008929</td>\n",
       "    </tr>\n",
       "    <tr>\n",
       "      <th>Vale do Anari</th>\n",
       "      <td>26.096774</td>\n",
       "      <td>34.000000</td>\n",
       "    </tr>\n",
       "    <tr>\n",
       "      <th>Vale do Paraíso</th>\n",
       "      <td>25.679012</td>\n",
       "      <td>29.976744</td>\n",
       "    </tr>\n",
       "    <tr>\n",
       "      <th>Vilhena</th>\n",
       "      <td>26.433962</td>\n",
       "      <td>34.152941</td>\n",
       "    </tr>\n",
       "  </tbody>\n",
       "</table>\n",
       "</div>"
      ],
      "text/plain": [
       "                            IDADEMAE   IDADEPAI\n",
       "munResNome                                     \n",
       "Alta Floresta D'Oeste      25.991826  29.548701\n",
       "Alto Alegre dos Parecis    24.844156  29.179104\n",
       "Alto Paraíso               24.960177  28.833333\n",
       "Alvorada D'Oeste           25.770732  30.757282\n",
       "Ariquemes                  25.607866  32.466667\n",
       "Buritis                    25.559177  30.812500\n",
       "Cabixi                     26.037500  34.333333\n",
       "Cacaulândia                25.546667  36.333333\n",
       "Cacoal                     26.890102  30.931854\n",
       "Campo Novo de Rondônia     24.825301  30.500000\n",
       "Candeias do Jamari         25.243323  29.894737\n",
       "Castanheiras               27.281250  30.392857\n",
       "Cerejeiras                 27.240506  31.652778\n",
       "Chupinguaia                25.333333  29.629630\n",
       "Colorado do Oeste          27.602804  34.354839\n",
       "Corumbiara                 24.716535  32.470588\n",
       "Costa Marques              24.412017  30.613636\n",
       "Cujubim                    24.482927  31.400000\n",
       "Espigão D'Oeste            26.093333  31.198113\n",
       "Governador Jorge Teixeira  24.401786  29.222222\n",
       "Guajará-Mirim              25.462228  30.470588\n",
       "Itapuã do Oeste            26.064220  42.500000\n",
       "Jaru                       25.982974  32.197183\n",
       "Ji-Paraná                  26.361137  31.132239\n",
       "Machadinho D'Oeste         25.480000  31.326923\n",
       "Ministro Andreazza         27.904762  33.849315\n",
       "Mirante da Serra           26.304878  32.154762\n",
       "Monte Negro                25.648241  34.678571\n",
       "Nova Brasilândia D'Oeste   26.222222  30.520833\n",
       "Nova Mamoré                25.326389  31.692308\n",
       "Nova União                 26.894231  31.371429\n",
       "Novo Horizonte do Oeste    26.938776  31.588235\n",
       "Ouro Preto do Oeste        26.375594  31.233244\n",
       "Parecis                    26.454545  32.473684\n",
       "Pimenta Bueno              25.199675  29.745174\n",
       "Pimenteiras do Oeste       25.075000  35.600000\n",
       "Porto Velho                26.312670  32.352679\n",
       "Presidente Médici          25.796053  30.150754\n",
       "Primavera de Rondônia      27.023256  31.888889\n",
       "Rio Crespo                 26.660000  28.000000\n",
       "Rolim de Moura             26.600863  30.360479\n",
       "Santa Luzia D'Oeste        26.121212  30.703297\n",
       "Seringueiras               24.910714  30.500000\n",
       "São Felipe D'Oeste         26.481481  31.395833\n",
       "São Francisco do Guaporé   25.660066  31.638889\n",
       "São Miguel do Guaporé      25.926346  32.666667\n",
       "Teixeirópolis              26.031250  31.500000\n",
       "Theobroma                  25.536082  30.083333\n",
       "Urupá                      26.688235  31.008929\n",
       "Vale do Anari              26.096774  34.000000\n",
       "Vale do Paraíso            25.679012  29.976744\n",
       "Vilhena                    26.433962  34.152941"
      ]
     },
     "execution_count": 22,
     "metadata": {},
     "output_type": "execute_result"
    }
   ],
   "source": [
    "sinasc_b.groupby('munResNome').mean()"
   ]
  },
  {
   "cell_type": "markdown",
   "metadata": {},
   "source": [
    "### 2. Peso médio dos bebes por sexo que nasceram no dia do seu aniversário por faixas de escolaridade mae\n",
    "Ex: Você, aluna(o), nasceu no dia 10/01, então você precisa filtrar o conjunto de dados nessa data e calcular o peso médio dos bebês de cada sexo por faixa de escolaridade da mãe."
   ]
  },
  {
   "cell_type": "code",
   "execution_count": 23,
   "metadata": {},
   "outputs": [],
   "source": [
    "sinasc_c = sinasc_raw[['ESCMAE', 'PESO', 'SEXO', 'DTNASC']]"
   ]
  },
  {
   "cell_type": "code",
   "execution_count": 25,
   "metadata": {},
   "outputs": [
    {
     "data": {
      "text/plain": [
       "ESCMAE           SEXO     \n",
       "1 a 3 anos       Masculino    3750.000000\n",
       "12 anos ou mais  Feminino     2957.500000\n",
       "                 Masculino    3366.785714\n",
       "4 a 7 anos       Feminino     3081.666667\n",
       "                 Masculino    3094.000000\n",
       "8 a 11 anos      Feminino     3204.391304\n",
       "                 Masculino    3209.652174\n",
       "Name: PESO, dtype: float64"
      ]
     },
     "execution_count": 25,
     "metadata": {},
     "output_type": "execute_result"
    }
   ],
   "source": [
    "# Filtrando pelo dia 03/Junho\n",
    "\n",
    "sinasc_c[sinasc_c['DTNASC'] == '2019-06-03'].groupby(['ESCMAE', 'SEXO'])['PESO'].mean()"
   ]
  },
  {
   "cell_type": "markdown",
   "metadata": {},
   "source": [
    "### 3. Qual o municipio que nasceu menos bebe em 2019?\n",
    "    - qual a idade media, maxima, minima das maes nesse municipio?\n",
    "    - qual a idade media, maxima, minima dos pais nesse municipio?"
   ]
  },
  {
   "cell_type": "code",
   "execution_count": 26,
   "metadata": {},
   "outputs": [],
   "source": [
    "sinasc_d = sinasc_raw[['IDADEMAE', 'IDADEPAI', 'munResNome', ]]\n",
    "sinasc_e = sinasc_d.drop(sinasc_d[sinasc_d['munResNome']=='Município ignorado - RO'].index)"
   ]
  },
  {
   "cell_type": "code",
   "execution_count": 27,
   "metadata": {},
   "outputs": [
    {
     "data": {
      "text/plain": [
       "Castanheiras    32\n",
       "Name: munResNome, dtype: int64"
      ]
     },
     "execution_count": 27,
     "metadata": {},
     "output_type": "execute_result"
    }
   ],
   "source": [
    "# Município com menos nascimentos\n",
    "\n",
    "sinasc_e.munResNome.value_counts().sort_values(ascending = True)[:1]"
   ]
  },
  {
   "cell_type": "code",
   "execution_count": 30,
   "metadata": {},
   "outputs": [
    {
     "data": {
      "text/html": [
       "<div>\n",
       "<style scoped>\n",
       "    .dataframe tbody tr th:only-of-type {\n",
       "        vertical-align: middle;\n",
       "    }\n",
       "\n",
       "    .dataframe tbody tr th {\n",
       "        vertical-align: top;\n",
       "    }\n",
       "\n",
       "    .dataframe thead tr th {\n",
       "        text-align: left;\n",
       "    }\n",
       "\n",
       "    .dataframe thead tr:last-of-type th {\n",
       "        text-align: right;\n",
       "    }\n",
       "</style>\n",
       "<table border=\"1\" class=\"dataframe\">\n",
       "  <thead>\n",
       "    <tr>\n",
       "      <th></th>\n",
       "      <th colspan=\"3\" halign=\"left\">IDADEMAE</th>\n",
       "      <th colspan=\"3\" halign=\"left\">IDADEPAI</th>\n",
       "    </tr>\n",
       "    <tr>\n",
       "      <th></th>\n",
       "      <th>Média</th>\n",
       "      <th>Máxima</th>\n",
       "      <th>Mínima</th>\n",
       "      <th>Média</th>\n",
       "      <th>Máxima</th>\n",
       "      <th>Mínima</th>\n",
       "    </tr>\n",
       "    <tr>\n",
       "      <th>munResNome</th>\n",
       "      <th></th>\n",
       "      <th></th>\n",
       "      <th></th>\n",
       "      <th></th>\n",
       "      <th></th>\n",
       "      <th></th>\n",
       "    </tr>\n",
       "  </thead>\n",
       "  <tbody>\n",
       "    <tr>\n",
       "      <th>Castanheiras</th>\n",
       "      <td>27.28125</td>\n",
       "      <td>39</td>\n",
       "      <td>17</td>\n",
       "      <td>30.392857</td>\n",
       "      <td>43.0</td>\n",
       "      <td>17.0</td>\n",
       "    </tr>\n",
       "  </tbody>\n",
       "</table>\n",
       "</div>"
      ],
      "text/plain": [
       "              IDADEMAE                 IDADEPAI              \n",
       "                 Média Máxima Mínima      Média Máxima Mínima\n",
       "munResNome                                                   \n",
       "Castanheiras  27.28125     39     17  30.392857   43.0   17.0"
      ]
     },
     "execution_count": 30,
     "metadata": {},
     "output_type": "execute_result"
    }
   ],
   "source": [
    "sinasc_e[sinasc_e['munResNome'] == 'Castanheiras'].groupby('munResNome').agg([('Média', 'mean'), ('Máxima', 'max'), ('Mínima', 'min')])"
   ]
  },
  {
   "cell_type": "markdown",
   "metadata": {},
   "source": [
    "### 4. Qual o municipio que nasceu mais bebe no mês de março?\n",
    "    - qual a quantidade de filhos vivos media, maxima, minima nesse municipio?\n",
    "    - qual a idade media, maxima, minima dos pais nesse municipio?\n",
    "\n"
   ]
  },
  {
   "cell_type": "code",
   "execution_count": 31,
   "metadata": {},
   "outputs": [],
   "source": [
    "sinasc_f = sinasc_raw[['IDADEMAE', 'IDADEPAI', 'munResNome', 'DTNASC', 'QTDFILVIVO']]\n",
    "sinasc_g = sinasc_f.drop(sinasc_f[sinasc_f['munResNome']=='Município ignorado - RO'].index)"
   ]
  },
  {
   "cell_type": "code",
   "execution_count": 33,
   "metadata": {},
   "outputs": [],
   "source": [
    "sinasc_g.loc[:,'DTNASC'] = pd.to_datetime(sinasc_g['DTNASC'])"
   ]
  },
  {
   "cell_type": "code",
   "execution_count": 34,
   "metadata": {},
   "outputs": [],
   "source": [
    "sinasc_g.set_index('DTNASC', inplace=True)"
   ]
  },
  {
   "cell_type": "code",
   "execution_count": 35,
   "metadata": {},
   "outputs": [],
   "source": [
    "sinasc_g['MES'] = sinasc_g.index.month"
   ]
  },
  {
   "cell_type": "code",
   "execution_count": 36,
   "metadata": {},
   "outputs": [
    {
     "data": {
      "text/html": [
       "<div>\n",
       "<style scoped>\n",
       "    .dataframe tbody tr th:only-of-type {\n",
       "        vertical-align: middle;\n",
       "    }\n",
       "\n",
       "    .dataframe tbody tr th {\n",
       "        vertical-align: top;\n",
       "    }\n",
       "\n",
       "    .dataframe thead th {\n",
       "        text-align: right;\n",
       "    }\n",
       "</style>\n",
       "<table border=\"1\" class=\"dataframe\">\n",
       "  <thead>\n",
       "    <tr style=\"text-align: right;\">\n",
       "      <th></th>\n",
       "      <th>IDADEMAE</th>\n",
       "      <th>IDADEPAI</th>\n",
       "      <th>munResNome</th>\n",
       "      <th>QTDFILVIVO</th>\n",
       "      <th>MES</th>\n",
       "    </tr>\n",
       "    <tr>\n",
       "      <th>DTNASC</th>\n",
       "      <th></th>\n",
       "      <th></th>\n",
       "      <th></th>\n",
       "      <th></th>\n",
       "      <th></th>\n",
       "    </tr>\n",
       "  </thead>\n",
       "  <tbody>\n",
       "    <tr>\n",
       "      <th>2019-02-19</th>\n",
       "      <td>19</td>\n",
       "      <td>26.0</td>\n",
       "      <td>Alta Floresta D'Oeste</td>\n",
       "      <td>0.0</td>\n",
       "      <td>2</td>\n",
       "    </tr>\n",
       "    <tr>\n",
       "      <th>2019-02-21</th>\n",
       "      <td>29</td>\n",
       "      <td>24.0</td>\n",
       "      <td>Alta Floresta D'Oeste</td>\n",
       "      <td>1.0</td>\n",
       "      <td>2</td>\n",
       "    </tr>\n",
       "    <tr>\n",
       "      <th>2019-02-25</th>\n",
       "      <td>37</td>\n",
       "      <td>32.0</td>\n",
       "      <td>Alta Floresta D'Oeste</td>\n",
       "      <td>2.0</td>\n",
       "      <td>2</td>\n",
       "    </tr>\n",
       "    <tr>\n",
       "      <th>2019-03-20</th>\n",
       "      <td>30</td>\n",
       "      <td>24.0</td>\n",
       "      <td>Alto Alegre dos Parecis</td>\n",
       "      <td>0.0</td>\n",
       "      <td>3</td>\n",
       "    </tr>\n",
       "    <tr>\n",
       "      <th>2019-03-23</th>\n",
       "      <td>30</td>\n",
       "      <td>27.0</td>\n",
       "      <td>Alta Floresta D'Oeste</td>\n",
       "      <td>1.0</td>\n",
       "      <td>3</td>\n",
       "    </tr>\n",
       "  </tbody>\n",
       "</table>\n",
       "</div>"
      ],
      "text/plain": [
       "            IDADEMAE  IDADEPAI               munResNome  QTDFILVIVO  MES\n",
       "DTNASC                                                                  \n",
       "2019-02-19        19      26.0    Alta Floresta D'Oeste         0.0    2\n",
       "2019-02-21        29      24.0    Alta Floresta D'Oeste         1.0    2\n",
       "2019-02-25        37      32.0    Alta Floresta D'Oeste         2.0    2\n",
       "2019-03-20        30      24.0  Alto Alegre dos Parecis         0.0    3\n",
       "2019-03-23        30      27.0    Alta Floresta D'Oeste         1.0    3"
      ]
     },
     "execution_count": 36,
     "metadata": {},
     "output_type": "execute_result"
    }
   ],
   "source": [
    "sinasc_g.head()"
   ]
  },
  {
   "cell_type": "code",
   "execution_count": 58,
   "metadata": {},
   "outputs": [
    {
     "data": {
      "text/plain": [
       "munResNome\n",
       "Porto Velho    744\n",
       "Name: munResNome, dtype: int64"
      ]
     },
     "execution_count": 58,
     "metadata": {},
     "output_type": "execute_result"
    }
   ],
   "source": [
    "# Município que nasceu mais bebe no mês de março\n",
    "\n",
    "sinasc_g[sinasc_g['MES'] == 3].groupby(['munResNome'])['munResNome'].count().sort_values(ascending = False)[:1]"
   ]
  },
  {
   "cell_type": "code",
   "execution_count": 41,
   "metadata": {},
   "outputs": [
    {
     "data": {
      "text/html": [
       "<div>\n",
       "<style scoped>\n",
       "    .dataframe tbody tr th:only-of-type {\n",
       "        vertical-align: middle;\n",
       "    }\n",
       "\n",
       "    .dataframe tbody tr th {\n",
       "        vertical-align: top;\n",
       "    }\n",
       "\n",
       "    .dataframe thead tr th {\n",
       "        text-align: left;\n",
       "    }\n",
       "\n",
       "    .dataframe thead tr:last-of-type th {\n",
       "        text-align: right;\n",
       "    }\n",
       "</style>\n",
       "<table border=\"1\" class=\"dataframe\">\n",
       "  <thead>\n",
       "    <tr>\n",
       "      <th></th>\n",
       "      <th colspan=\"3\" halign=\"left\">QTDFILVIVO</th>\n",
       "    </tr>\n",
       "    <tr>\n",
       "      <th></th>\n",
       "      <th>Média</th>\n",
       "      <th>Máxima</th>\n",
       "      <th>Mínima</th>\n",
       "    </tr>\n",
       "    <tr>\n",
       "      <th>munResNome</th>\n",
       "      <th></th>\n",
       "      <th></th>\n",
       "      <th></th>\n",
       "    </tr>\n",
       "  </thead>\n",
       "  <tbody>\n",
       "    <tr>\n",
       "      <th>Porto Velho</th>\n",
       "      <td>1.167236</td>\n",
       "      <td>12.0</td>\n",
       "      <td>0.0</td>\n",
       "    </tr>\n",
       "  </tbody>\n",
       "</table>\n",
       "</div>"
      ],
      "text/plain": [
       "            QTDFILVIVO              \n",
       "                 Média Máxima Mínima\n",
       "munResNome                          \n",
       "Porto Velho   1.167236   12.0    0.0"
      ]
     },
     "execution_count": 41,
     "metadata": {},
     "output_type": "execute_result"
    }
   ],
   "source": [
    "sinasc_g[sinasc_g['munResNome'] == 'Porto Velho'].groupby('munResNome').agg({'QTDFILVIVO': [('Média', 'mean'), ('Máxima', 'max'), ('Mínima', 'min')]})"
   ]
  },
  {
   "cell_type": "code",
   "execution_count": 42,
   "metadata": {},
   "outputs": [
    {
     "data": {
      "text/html": [
       "<div>\n",
       "<style scoped>\n",
       "    .dataframe tbody tr th:only-of-type {\n",
       "        vertical-align: middle;\n",
       "    }\n",
       "\n",
       "    .dataframe tbody tr th {\n",
       "        vertical-align: top;\n",
       "    }\n",
       "\n",
       "    .dataframe thead tr th {\n",
       "        text-align: left;\n",
       "    }\n",
       "\n",
       "    .dataframe thead tr:last-of-type th {\n",
       "        text-align: right;\n",
       "    }\n",
       "</style>\n",
       "<table border=\"1\" class=\"dataframe\">\n",
       "  <thead>\n",
       "    <tr>\n",
       "      <th></th>\n",
       "      <th colspan=\"3\" halign=\"left\">IDADEMAE</th>\n",
       "      <th colspan=\"3\" halign=\"left\">IDADEPAI</th>\n",
       "    </tr>\n",
       "    <tr>\n",
       "      <th></th>\n",
       "      <th>Média</th>\n",
       "      <th>Máxima</th>\n",
       "      <th>Mínima</th>\n",
       "      <th>Média</th>\n",
       "      <th>Máxima</th>\n",
       "      <th>Mínima</th>\n",
       "    </tr>\n",
       "    <tr>\n",
       "      <th>munResNome</th>\n",
       "      <th></th>\n",
       "      <th></th>\n",
       "      <th></th>\n",
       "      <th></th>\n",
       "      <th></th>\n",
       "      <th></th>\n",
       "    </tr>\n",
       "  </thead>\n",
       "  <tbody>\n",
       "    <tr>\n",
       "      <th>Porto Velho</th>\n",
       "      <td>26.31267</td>\n",
       "      <td>47</td>\n",
       "      <td>12</td>\n",
       "      <td>32.352679</td>\n",
       "      <td>65.0</td>\n",
       "      <td>16.0</td>\n",
       "    </tr>\n",
       "  </tbody>\n",
       "</table>\n",
       "</div>"
      ],
      "text/plain": [
       "             IDADEMAE                 IDADEPAI              \n",
       "                Média Máxima Mínima      Média Máxima Mínima\n",
       "munResNome                                                  \n",
       "Porto Velho  26.31267     47     12  32.352679   65.0   16.0"
      ]
     },
     "execution_count": 42,
     "metadata": {},
     "output_type": "execute_result"
    }
   ],
   "source": [
    "sinasc_g[sinasc_g['munResNome'] == 'Porto Velho'].groupby('munResNome').agg({'IDADEMAE': [('Média', 'mean'), ('Máxima', 'max'), ('Mínima', 'min')], 'IDADEPAI': [('Média', 'mean'), ('Máxima', 'max'), ('Mínima', 'min')]})"
   ]
  },
  {
   "cell_type": "markdown",
   "metadata": {},
   "source": [
    "### Analise as respostas encontradas, tire algum insight delas, conte pra gente algo encontrado nos dados. Algo que você julgue relevante e novo pra você."
   ]
  },
  {
   "cell_type": "markdown",
   "metadata": {},
   "source": [
    "Exemplo:\n",
    "- Ah, descobri que a idade mediana das mulheres que deram a luz no ano de 2019 dos municipios x é maior que y."
   ]
  },
  {
   "cell_type": "code",
   "execution_count": 43,
   "metadata": {},
   "outputs": [
    {
     "data": {
      "image/png": "[encoded data removed]",
      "text/plain": [
       "<Figure size 1080x360 with 1 Axes>"
      ]
     },
     "metadata": {
      "needs_background": "light"
     },
     "output_type": "display_data"
    }
   ],
   "source": [
    "sinasc_b.groupby('munResNome').mean().plot(figsize=[15,5]);"
   ]
  },
  {
   "cell_type": "markdown",
   "metadata": {},
   "source": [
    "Nos dados do **Item 1** podemos identificar que no geral a idade média dos pais é maior do que a idade média das mães."
   ]
  },
  {
   "cell_type": "code",
   "execution_count": 52,
   "metadata": {},
   "outputs": [
    {
     "data": {
      "image/png": "[encoded data removed]",
      "text/plain": [
       "<Figure size 1440x360 with 1 Axes>"
      ]
     },
     "metadata": {
      "needs_background": "light"
     },
     "output_type": "display_data"
    }
   ],
   "source": [
    "sinasc_c.groupby(['ESCMAE'])['PESO'].mean().sort_values().plot(figsize=[20,5]);"
   ]
  },
  {
   "cell_type": "code",
   "execution_count": 55,
   "metadata": {},
   "outputs": [
    {
     "data": {
      "image/png": "[encoded data removed]",
      "text/plain": [
       "<Figure size 1440x360 with 1 Axes>"
      ]
     },
     "metadata": {
      "needs_background": "light"
     },
     "output_type": "display_data"
    }
   ],
   "source": [
    "sinasc_c.groupby(['ESCMAE', 'SEXO'])['PESO'].mean().unstack().plot(figsize=[20,5]);"
   ]
  },
  {
   "cell_type": "markdown",
   "metadata": {},
   "source": [
    "Nos dados do **Item 2**, observando os dados no geral, podemos perceber duas coisas, bebês do sexo masculino tendem a nascer mais pesados do que bebês do sexo feminino e quanto menor o grau de escolaridade da mãe menor é o peso de nascimento do bebê."
   ]
  },
  {
   "cell_type": "markdown",
   "metadata": {},
   "source": [
    "Os dados obtidos no **Item 3** e **Item 4** apenas confirmam o insight obtido analisando o **Item 1**: média de idade dos pais é maior do que a média de idade da mães."
   ]
  }
 ],
 "metadata": {
  "kernelspec": {
   "display_name": "Python 3 (ipykernel)",
   "language": "python",
   "name": "python3"
  },
  "language_info": {
   "codemirror_mode": {
    "name": "ipython",
    "version": 3
   },
   "file_extension": ".py",
   "mimetype": "text/x-python",
   "name": "python",
   "nbconvert_exporter": "python",
   "pygments_lexer": "ipython3",
   "version": "3.9.7"
  },
  "varInspector": {
   "cols": {
    "lenName": 16,
    "lenType": 16,
    "lenVar": 40
   },
   "kernels_config": {
    "python": {
     "delete_cmd_postfix": "",
     "delete_cmd_prefix": "del ",
     "library": "var_list.py",
     "varRefreshCmd": "print(var_dic_list())"
    },
    "r": {
     "delete_cmd_postfix": ") ",
     "delete_cmd_prefix": "rm(",
     "library": "var_list.r",
     "varRefreshCmd": "cat(var_dic_list()) "
    }
   },
   "types_to_exclude": [
    "module",
    "function",
    "builtin_function_or_method",
    "instance",
    "_Feature"
   ],
   "window_display": false
  }
 },
 "nbformat": 4,
 "nbformat_minor": 4
}
