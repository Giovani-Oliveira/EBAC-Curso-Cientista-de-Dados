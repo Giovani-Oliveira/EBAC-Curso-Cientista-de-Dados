{
 "cells": [
  {
   "cell_type": "markdown",
   "metadata": {},
   "source": [
    "# Classificação de Atividade Humana com PCA\n",
    "\n",
    "Vamos trabalhar com a base da demonstração feita em aula, mas vamos explorar um pouco melhor como é o desempenho da árvore variando o número de componentes principais."
   ]
  },
  {
   "cell_type": "code",
   "execution_count": 1,
   "metadata": {},
   "outputs": [],
   "source": [
    "import numpy as np\n",
    "import pandas as pd\n",
    "import matplotlib.pyplot as plt\n",
    "import seaborn as sns\n",
    "\n",
    "from sklearn.tree import DecisionTreeClassifier\n",
    "\n",
    "from sklearn.decomposition import PCA\n",
    "from sklearn.tree import DecisionTreeClassifier\n",
    "from sklearn.metrics import accuracy_score\n",
    "from sklearn.metrics import plot_confusion_matrix"
   ]
  },
  {
   "cell_type": "code",
   "execution_count": 2,
   "metadata": {},
   "outputs": [],
   "source": [
    "filename_features = \"Dados/UCI HAR Dataset/features.txt\"\n",
    "filename_labels = \"Dados/UCI HAR Dataset/activity_labels.txt\"\n",
    "\n",
    "filename_subtrain = \"Dados/UCI HAR Dataset/train/subject_train.txt\"\n",
    "filename_xtrain = \"Dados/UCI HAR Dataset/train/X_train.txt\"\n",
    "filename_ytrain = \"Dados/UCI HAR Dataset/train/y_train.txt\"\n",
    "\n",
    "filename_subtest = \"Dados/UCI HAR Dataset/test/subject_test.txt\"\n",
    "ffilename_xtest = \"Dados/UCI HAR Dataset/test/X_test.txt\"\n",
    "filename_ytest = \"Dados/UCI HAR Dataset/test/y_test.txt\"\n",
    "\n",
    "features = pd.read_csv(filename_features, header=None, names=['nome_var'], squeeze=True, sep=\"#\")\n",
    "labels = pd.read_csv(filename_labels, delim_whitespace=True, header=None, names=['cod_label', 'label'])\n",
    "\n",
    "subject_train = pd.read_csv(filename_subtrain, header=None, names=['subject_id'], squeeze=True)\n",
    "X_train = pd.read_csv(filename_xtrain, delim_whitespace=True, header=None, names=features.tolist())\n",
    "y_train = pd.read_csv(filename_ytrain, header=None, names=['cod_label'])\n",
    "\n",
    "subject_test = pd.read_csv(filename_subtest, header=None, names=['subject_id'], squeeze=True)\n",
    "X_test = pd.read_csv(ffilename_xtest, delim_whitespace=True, header=None, names=features.tolist())\n",
    "y_test = pd.read_csv(filename_ytest, header=None, names=['cod_label'])"
   ]
  },
  {
   "cell_type": "markdown",
   "metadata": {},
   "source": [
    "## PCA com variáveis padronizadas\n",
    "\n",
    "Reflexão sobre a escala das variáveis:\n",
    "\n",
    "**Variáveis em métricas muito diferentes** podem interferir na análise de componentes principais. Lembra que variância é informação pra nós? Pois bem, tipicamente se há uma variável monetária como salário, vai ter uma ordem de variabilidade bem maior que número de filhos, tempo de emprego ou qualquer variável dummy. Assim, as variáveis de maior variância tendem a \"dominar\" a análise. Nesses casos é comum usar a padronização das variáveis.\n",
    "\n",
    "Faça duas análises de componentes principais para a base do HAR - com e sem padronização e compare:\n",
    "\n",
    "- A variância explicada por componente\n",
    "- A variância explicada acumulada por componente\n",
    "- A variância percentual por componente\n",
    "- A variância percentual acumulada por componente\n",
    "- Quantas componentes você escolheria, em cada caso para explicar 90% da variância?"
   ]
  },
  {
   "cell_type": "code",
   "execution_count": 3,
   "metadata": {},
   "outputs": [
    {
     "data": {
      "text/html": [
       "<div>\n",
       "<style scoped>\n",
       "    .dataframe tbody tr th:only-of-type {\n",
       "        vertical-align: middle;\n",
       "    }\n",
       "\n",
       "    .dataframe tbody tr th {\n",
       "        vertical-align: top;\n",
       "    }\n",
       "\n",
       "    .dataframe thead th {\n",
       "        text-align: right;\n",
       "    }\n",
       "</style>\n",
       "<table border=\"1\" class=\"dataframe\">\n",
       "  <thead>\n",
       "    <tr style=\"text-align: right;\">\n",
       "      <th></th>\n",
       "      <th>1 tBodyAcc-mean()-X</th>\n",
       "      <th>2 tBodyAcc-mean()-Y</th>\n",
       "      <th>3 tBodyAcc-mean()-Z</th>\n",
       "      <th>4 tBodyAcc-std()-X</th>\n",
       "      <th>5 tBodyAcc-std()-Y</th>\n",
       "      <th>6 tBodyAcc-std()-Z</th>\n",
       "      <th>7 tBodyAcc-mad()-X</th>\n",
       "      <th>8 tBodyAcc-mad()-Y</th>\n",
       "      <th>9 tBodyAcc-mad()-Z</th>\n",
       "      <th>10 tBodyAcc-max()-X</th>\n",
       "      <th>...</th>\n",
       "      <th>552 fBodyBodyGyroJerkMag-meanFreq()</th>\n",
       "      <th>553 fBodyBodyGyroJerkMag-skewness()</th>\n",
       "      <th>554 fBodyBodyGyroJerkMag-kurtosis()</th>\n",
       "      <th>555 angle(tBodyAccMean,gravity)</th>\n",
       "      <th>556 angle(tBodyAccJerkMean),gravityMean)</th>\n",
       "      <th>557 angle(tBodyGyroMean,gravityMean)</th>\n",
       "      <th>558 angle(tBodyGyroJerkMean,gravityMean)</th>\n",
       "      <th>559 angle(X,gravityMean)</th>\n",
       "      <th>560 angle(Y,gravityMean)</th>\n",
       "      <th>561 angle(Z,gravityMean)</th>\n",
       "    </tr>\n",
       "  </thead>\n",
       "  <tbody>\n",
       "    <tr>\n",
       "      <th>0</th>\n",
       "      <td>0.288585</td>\n",
       "      <td>-0.020294</td>\n",
       "      <td>-0.132905</td>\n",
       "      <td>-0.995279</td>\n",
       "      <td>-0.983111</td>\n",
       "      <td>-0.913526</td>\n",
       "      <td>-0.995112</td>\n",
       "      <td>-0.983185</td>\n",
       "      <td>-0.923527</td>\n",
       "      <td>-0.934724</td>\n",
       "      <td>...</td>\n",
       "      <td>-0.074323</td>\n",
       "      <td>-0.298676</td>\n",
       "      <td>-0.710304</td>\n",
       "      <td>-0.112754</td>\n",
       "      <td>0.030400</td>\n",
       "      <td>-0.464761</td>\n",
       "      <td>-0.018446</td>\n",
       "      <td>-0.841247</td>\n",
       "      <td>0.179941</td>\n",
       "      <td>-0.058627</td>\n",
       "    </tr>\n",
       "    <tr>\n",
       "      <th>1</th>\n",
       "      <td>0.278419</td>\n",
       "      <td>-0.016411</td>\n",
       "      <td>-0.123520</td>\n",
       "      <td>-0.998245</td>\n",
       "      <td>-0.975300</td>\n",
       "      <td>-0.960322</td>\n",
       "      <td>-0.998807</td>\n",
       "      <td>-0.974914</td>\n",
       "      <td>-0.957686</td>\n",
       "      <td>-0.943068</td>\n",
       "      <td>...</td>\n",
       "      <td>0.158075</td>\n",
       "      <td>-0.595051</td>\n",
       "      <td>-0.861499</td>\n",
       "      <td>0.053477</td>\n",
       "      <td>-0.007435</td>\n",
       "      <td>-0.732626</td>\n",
       "      <td>0.703511</td>\n",
       "      <td>-0.844788</td>\n",
       "      <td>0.180289</td>\n",
       "      <td>-0.054317</td>\n",
       "    </tr>\n",
       "    <tr>\n",
       "      <th>2</th>\n",
       "      <td>0.279653</td>\n",
       "      <td>-0.019467</td>\n",
       "      <td>-0.113462</td>\n",
       "      <td>-0.995380</td>\n",
       "      <td>-0.967187</td>\n",
       "      <td>-0.978944</td>\n",
       "      <td>-0.996520</td>\n",
       "      <td>-0.963668</td>\n",
       "      <td>-0.977469</td>\n",
       "      <td>-0.938692</td>\n",
       "      <td>...</td>\n",
       "      <td>0.414503</td>\n",
       "      <td>-0.390748</td>\n",
       "      <td>-0.760104</td>\n",
       "      <td>-0.118559</td>\n",
       "      <td>0.177899</td>\n",
       "      <td>0.100699</td>\n",
       "      <td>0.808529</td>\n",
       "      <td>-0.848933</td>\n",
       "      <td>0.180637</td>\n",
       "      <td>-0.049118</td>\n",
       "    </tr>\n",
       "    <tr>\n",
       "      <th>3</th>\n",
       "      <td>0.279174</td>\n",
       "      <td>-0.026201</td>\n",
       "      <td>-0.123283</td>\n",
       "      <td>-0.996091</td>\n",
       "      <td>-0.983403</td>\n",
       "      <td>-0.990675</td>\n",
       "      <td>-0.997099</td>\n",
       "      <td>-0.982750</td>\n",
       "      <td>-0.989302</td>\n",
       "      <td>-0.938692</td>\n",
       "      <td>...</td>\n",
       "      <td>0.404573</td>\n",
       "      <td>-0.117290</td>\n",
       "      <td>-0.482845</td>\n",
       "      <td>-0.036788</td>\n",
       "      <td>-0.012892</td>\n",
       "      <td>0.640011</td>\n",
       "      <td>-0.485366</td>\n",
       "      <td>-0.848649</td>\n",
       "      <td>0.181935</td>\n",
       "      <td>-0.047663</td>\n",
       "    </tr>\n",
       "    <tr>\n",
       "      <th>4</th>\n",
       "      <td>0.276629</td>\n",
       "      <td>-0.016570</td>\n",
       "      <td>-0.115362</td>\n",
       "      <td>-0.998139</td>\n",
       "      <td>-0.980817</td>\n",
       "      <td>-0.990482</td>\n",
       "      <td>-0.998321</td>\n",
       "      <td>-0.979672</td>\n",
       "      <td>-0.990441</td>\n",
       "      <td>-0.942469</td>\n",
       "      <td>...</td>\n",
       "      <td>0.087753</td>\n",
       "      <td>-0.351471</td>\n",
       "      <td>-0.699205</td>\n",
       "      <td>0.123320</td>\n",
       "      <td>0.122542</td>\n",
       "      <td>0.693578</td>\n",
       "      <td>-0.615971</td>\n",
       "      <td>-0.847865</td>\n",
       "      <td>0.185151</td>\n",
       "      <td>-0.043892</td>\n",
       "    </tr>\n",
       "  </tbody>\n",
       "</table>\n",
       "<p>5 rows × 561 columns</p>\n",
       "</div>"
      ],
      "text/plain": [
       "   1 tBodyAcc-mean()-X  2 tBodyAcc-mean()-Y  3 tBodyAcc-mean()-Z  \\\n",
       "0             0.288585            -0.020294            -0.132905   \n",
       "1             0.278419            -0.016411            -0.123520   \n",
       "2             0.279653            -0.019467            -0.113462   \n",
       "3             0.279174            -0.026201            -0.123283   \n",
       "4             0.276629            -0.016570            -0.115362   \n",
       "\n",
       "   4 tBodyAcc-std()-X  5 tBodyAcc-std()-Y  6 tBodyAcc-std()-Z  \\\n",
       "0           -0.995279           -0.983111           -0.913526   \n",
       "1           -0.998245           -0.975300           -0.960322   \n",
       "2           -0.995380           -0.967187           -0.978944   \n",
       "3           -0.996091           -0.983403           -0.990675   \n",
       "4           -0.998139           -0.980817           -0.990482   \n",
       "\n",
       "   7 tBodyAcc-mad()-X  8 tBodyAcc-mad()-Y  9 tBodyAcc-mad()-Z  \\\n",
       "0           -0.995112           -0.983185           -0.923527   \n",
       "1           -0.998807           -0.974914           -0.957686   \n",
       "2           -0.996520           -0.963668           -0.977469   \n",
       "3           -0.997099           -0.982750           -0.989302   \n",
       "4           -0.998321           -0.979672           -0.990441   \n",
       "\n",
       "   10 tBodyAcc-max()-X  ...  552 fBodyBodyGyroJerkMag-meanFreq()  \\\n",
       "0            -0.934724  ...                            -0.074323   \n",
       "1            -0.943068  ...                             0.158075   \n",
       "2            -0.938692  ...                             0.414503   \n",
       "3            -0.938692  ...                             0.404573   \n",
       "4            -0.942469  ...                             0.087753   \n",
       "\n",
       "   553 fBodyBodyGyroJerkMag-skewness()  554 fBodyBodyGyroJerkMag-kurtosis()  \\\n",
       "0                            -0.298676                            -0.710304   \n",
       "1                            -0.595051                            -0.861499   \n",
       "2                            -0.390748                            -0.760104   \n",
       "3                            -0.117290                            -0.482845   \n",
       "4                            -0.351471                            -0.699205   \n",
       "\n",
       "   555 angle(tBodyAccMean,gravity)  556 angle(tBodyAccJerkMean),gravityMean)  \\\n",
       "0                        -0.112754                                  0.030400   \n",
       "1                         0.053477                                 -0.007435   \n",
       "2                        -0.118559                                  0.177899   \n",
       "3                        -0.036788                                 -0.012892   \n",
       "4                         0.123320                                  0.122542   \n",
       "\n",
       "   557 angle(tBodyGyroMean,gravityMean)  \\\n",
       "0                             -0.464761   \n",
       "1                             -0.732626   \n",
       "2                              0.100699   \n",
       "3                              0.640011   \n",
       "4                              0.693578   \n",
       "\n",
       "   558 angle(tBodyGyroJerkMean,gravityMean)  559 angle(X,gravityMean)  \\\n",
       "0                                 -0.018446                 -0.841247   \n",
       "1                                  0.703511                 -0.844788   \n",
       "2                                  0.808529                 -0.848933   \n",
       "3                                 -0.485366                 -0.848649   \n",
       "4                                 -0.615971                 -0.847865   \n",
       "\n",
       "   560 angle(Y,gravityMean)  561 angle(Z,gravityMean)  \n",
       "0                  0.179941                 -0.058627  \n",
       "1                  0.180289                 -0.054317  \n",
       "2                  0.180637                 -0.049118  \n",
       "3                  0.181935                 -0.047663  \n",
       "4                  0.185151                 -0.043892  \n",
       "\n",
       "[5 rows x 561 columns]"
      ]
     },
     "execution_count": 3,
     "metadata": {},
     "output_type": "execute_result"
    }
   ],
   "source": [
    "X_train.head()"
   ]
  },
  {
   "cell_type": "code",
   "execution_count": 4,
   "metadata": {},
   "outputs": [],
   "source": [
    "# PCA para base sem padronização\n",
    "\n",
    "PCA_X_train = PCA().fit(X_train)"
   ]
  },
  {
   "cell_type": "code",
   "execution_count": 5,
   "metadata": {},
   "outputs": [
    {
     "name": "stdout",
     "output_type": "stream",
     "text": [
      "Wall time: 210 ms\n"
     ]
    },
    {
     "data": {
      "text/html": [
       "<div>\n",
       "<style scoped>\n",
       "    .dataframe tbody tr th:only-of-type {\n",
       "        vertical-align: middle;\n",
       "    }\n",
       "\n",
       "    .dataframe tbody tr th {\n",
       "        vertical-align: top;\n",
       "    }\n",
       "\n",
       "    .dataframe thead th {\n",
       "        text-align: right;\n",
       "    }\n",
       "</style>\n",
       "<table border=\"1\" class=\"dataframe\">\n",
       "  <thead>\n",
       "    <tr style=\"text-align: right;\">\n",
       "      <th></th>\n",
       "      <th>1 tBodyAcc-mean()-X</th>\n",
       "      <th>2 tBodyAcc-mean()-Y</th>\n",
       "      <th>3 tBodyAcc-mean()-Z</th>\n",
       "      <th>4 tBodyAcc-std()-X</th>\n",
       "      <th>5 tBodyAcc-std()-Y</th>\n",
       "      <th>6 tBodyAcc-std()-Z</th>\n",
       "      <th>7 tBodyAcc-mad()-X</th>\n",
       "      <th>8 tBodyAcc-mad()-Y</th>\n",
       "      <th>9 tBodyAcc-mad()-Z</th>\n",
       "      <th>10 tBodyAcc-max()-X</th>\n",
       "      <th>...</th>\n",
       "      <th>552 fBodyBodyGyroJerkMag-meanFreq()</th>\n",
       "      <th>553 fBodyBodyGyroJerkMag-skewness()</th>\n",
       "      <th>554 fBodyBodyGyroJerkMag-kurtosis()</th>\n",
       "      <th>555 angle(tBodyAccMean,gravity)</th>\n",
       "      <th>556 angle(tBodyAccJerkMean),gravityMean)</th>\n",
       "      <th>557 angle(tBodyGyroMean,gravityMean)</th>\n",
       "      <th>558 angle(tBodyGyroJerkMean,gravityMean)</th>\n",
       "      <th>559 angle(X,gravityMean)</th>\n",
       "      <th>560 angle(Y,gravityMean)</th>\n",
       "      <th>561 angle(Z,gravityMean)</th>\n",
       "    </tr>\n",
       "  </thead>\n",
       "  <tbody>\n",
       "    <tr>\n",
       "      <th>0</th>\n",
       "      <td>0.200628</td>\n",
       "      <td>-0.063678</td>\n",
       "      <td>-0.419600</td>\n",
       "      <td>-0.868755</td>\n",
       "      <td>-0.939377</td>\n",
       "      <td>-0.737479</td>\n",
       "      <td>-0.859758</td>\n",
       "      <td>-0.938955</td>\n",
       "      <td>-0.766385</td>\n",
       "      <td>-0.855978</td>\n",
       "      <td>...</td>\n",
       "      <td>-0.795305</td>\n",
       "      <td>0.025958</td>\n",
       "      <td>-0.276380</td>\n",
       "      <td>-0.360579</td>\n",
       "      <td>0.062935</td>\n",
       "      <td>-0.778374</td>\n",
       "      <td>-0.026079</td>\n",
       "      <td>-0.687172</td>\n",
       "      <td>0.407918</td>\n",
       "      <td>-0.007567</td>\n",
       "    </tr>\n",
       "    <tr>\n",
       "      <th>1</th>\n",
       "      <td>0.055944</td>\n",
       "      <td>0.031484</td>\n",
       "      <td>-0.253891</td>\n",
       "      <td>-0.875366</td>\n",
       "      <td>-0.923839</td>\n",
       "      <td>-0.849247</td>\n",
       "      <td>-0.868472</td>\n",
       "      <td>-0.921936</td>\n",
       "      <td>-0.848870</td>\n",
       "      <td>-0.871300</td>\n",
       "      <td>...</td>\n",
       "      <td>0.130605</td>\n",
       "      <td>-0.897296</td>\n",
       "      <td>-0.767938</td>\n",
       "      <td>0.133002</td>\n",
       "      <td>-0.021460</td>\n",
       "      <td>-1.218722</td>\n",
       "      <td>1.484369</td>\n",
       "      <td>-0.694091</td>\n",
       "      <td>0.409089</td>\n",
       "      <td>0.007875</td>\n",
       "    </tr>\n",
       "    <tr>\n",
       "      <th>2</th>\n",
       "      <td>0.073510</td>\n",
       "      <td>-0.043414</td>\n",
       "      <td>-0.076289</td>\n",
       "      <td>-0.868980</td>\n",
       "      <td>-0.907698</td>\n",
       "      <td>-0.893724</td>\n",
       "      <td>-0.863078</td>\n",
       "      <td>-0.898793</td>\n",
       "      <td>-0.896640</td>\n",
       "      <td>-0.863264</td>\n",
       "      <td>...</td>\n",
       "      <td>1.152257</td>\n",
       "      <td>-0.260860</td>\n",
       "      <td>-0.438286</td>\n",
       "      <td>-0.377815</td>\n",
       "      <td>0.391949</td>\n",
       "      <td>0.151197</td>\n",
       "      <td>1.704085</td>\n",
       "      <td>-0.702191</td>\n",
       "      <td>0.410260</td>\n",
       "      <td>0.026501</td>\n",
       "    </tr>\n",
       "    <tr>\n",
       "      <th>3</th>\n",
       "      <td>0.066691</td>\n",
       "      <td>-0.208407</td>\n",
       "      <td>-0.249695</td>\n",
       "      <td>-0.870566</td>\n",
       "      <td>-0.939959</td>\n",
       "      <td>-0.921743</td>\n",
       "      <td>-0.864445</td>\n",
       "      <td>-0.938060</td>\n",
       "      <td>-0.925216</td>\n",
       "      <td>-0.863264</td>\n",
       "      <td>...</td>\n",
       "      <td>1.112694</td>\n",
       "      <td>0.591005</td>\n",
       "      <td>0.463123</td>\n",
       "      <td>-0.135016</td>\n",
       "      <td>-0.033635</td>\n",
       "      <td>1.037781</td>\n",
       "      <td>-1.002951</td>\n",
       "      <td>-0.701636</td>\n",
       "      <td>0.414622</td>\n",
       "      <td>0.031712</td>\n",
       "    </tr>\n",
       "    <tr>\n",
       "      <th>4</th>\n",
       "      <td>0.030467</td>\n",
       "      <td>0.027585</td>\n",
       "      <td>-0.109840</td>\n",
       "      <td>-0.875128</td>\n",
       "      <td>-0.934815</td>\n",
       "      <td>-0.921281</td>\n",
       "      <td>-0.867325</td>\n",
       "      <td>-0.931726</td>\n",
       "      <td>-0.927965</td>\n",
       "      <td>-0.870201</td>\n",
       "      <td>...</td>\n",
       "      <td>-0.149567</td>\n",
       "      <td>-0.138505</td>\n",
       "      <td>-0.240296</td>\n",
       "      <td>0.340383</td>\n",
       "      <td>0.268468</td>\n",
       "      <td>1.125841</td>\n",
       "      <td>-1.276196</td>\n",
       "      <td>-0.700104</td>\n",
       "      <td>0.425434</td>\n",
       "      <td>0.045222</td>\n",
       "    </tr>\n",
       "  </tbody>\n",
       "</table>\n",
       "<p>5 rows × 561 columns</p>\n",
       "</div>"
      ],
      "text/plain": [
       "   1 tBodyAcc-mean()-X  2 tBodyAcc-mean()-Y  3 tBodyAcc-mean()-Z  \\\n",
       "0             0.200628            -0.063678            -0.419600   \n",
       "1             0.055944             0.031484            -0.253891   \n",
       "2             0.073510            -0.043414            -0.076289   \n",
       "3             0.066691            -0.208407            -0.249695   \n",
       "4             0.030467             0.027585            -0.109840   \n",
       "\n",
       "   4 tBodyAcc-std()-X  5 tBodyAcc-std()-Y  6 tBodyAcc-std()-Z  \\\n",
       "0           -0.868755           -0.939377           -0.737479   \n",
       "1           -0.875366           -0.923839           -0.849247   \n",
       "2           -0.868980           -0.907698           -0.893724   \n",
       "3           -0.870566           -0.939959           -0.921743   \n",
       "4           -0.875128           -0.934815           -0.921281   \n",
       "\n",
       "   7 tBodyAcc-mad()-X  8 tBodyAcc-mad()-Y  9 tBodyAcc-mad()-Z  \\\n",
       "0           -0.859758           -0.938955           -0.766385   \n",
       "1           -0.868472           -0.921936           -0.848870   \n",
       "2           -0.863078           -0.898793           -0.896640   \n",
       "3           -0.864445           -0.938060           -0.925216   \n",
       "4           -0.867325           -0.931726           -0.927965   \n",
       "\n",
       "   10 tBodyAcc-max()-X  ...  552 fBodyBodyGyroJerkMag-meanFreq()  \\\n",
       "0            -0.855978  ...                            -0.795305   \n",
       "1            -0.871300  ...                             0.130605   \n",
       "2            -0.863264  ...                             1.152257   \n",
       "3            -0.863264  ...                             1.112694   \n",
       "4            -0.870201  ...                            -0.149567   \n",
       "\n",
       "   553 fBodyBodyGyroJerkMag-skewness()  554 fBodyBodyGyroJerkMag-kurtosis()  \\\n",
       "0                             0.025958                            -0.276380   \n",
       "1                            -0.897296                            -0.767938   \n",
       "2                            -0.260860                            -0.438286   \n",
       "3                             0.591005                             0.463123   \n",
       "4                            -0.138505                            -0.240296   \n",
       "\n",
       "   555 angle(tBodyAccMean,gravity)  556 angle(tBodyAccJerkMean),gravityMean)  \\\n",
       "0                        -0.360579                                  0.062935   \n",
       "1                         0.133002                                 -0.021460   \n",
       "2                        -0.377815                                  0.391949   \n",
       "3                        -0.135016                                 -0.033635   \n",
       "4                         0.340383                                  0.268468   \n",
       "\n",
       "   557 angle(tBodyGyroMean,gravityMean)  \\\n",
       "0                             -0.778374   \n",
       "1                             -1.218722   \n",
       "2                              0.151197   \n",
       "3                              1.037781   \n",
       "4                              1.125841   \n",
       "\n",
       "   558 angle(tBodyGyroJerkMean,gravityMean)  559 angle(X,gravityMean)  \\\n",
       "0                                 -0.026079                 -0.687172   \n",
       "1                                  1.484369                 -0.694091   \n",
       "2                                  1.704085                 -0.702191   \n",
       "3                                 -1.002951                 -0.701636   \n",
       "4                                 -1.276196                 -0.700104   \n",
       "\n",
       "   560 angle(Y,gravityMean)  561 angle(Z,gravityMean)  \n",
       "0                  0.407918                 -0.007567  \n",
       "1                  0.409089                  0.007875  \n",
       "2                  0.410260                  0.026501  \n",
       "3                  0.414622                  0.031712  \n",
       "4                  0.425434                  0.045222  \n",
       "\n",
       "[5 rows x 561 columns]"
      ]
     },
     "execution_count": 5,
     "metadata": {},
     "output_type": "execute_result"
    }
   ],
   "source": [
    "%%time\n",
    "\n",
    "def padroniza(s):\n",
    "    if s.std() > 0:\n",
    "        s = (s - s.mean())/s.std()\n",
    "    return s\n",
    "\n",
    "X_train_pad = pd.DataFrame(X_train).apply(padroniza, axis=0)\n",
    "X_train_pad.head()"
   ]
  },
  {
   "cell_type": "code",
   "execution_count": 6,
   "metadata": {},
   "outputs": [],
   "source": [
    "# PCA para base com padronização\n",
    "\n",
    "PCA_X_train_pad = PCA().fit(X_train_pad)"
   ]
  },
  {
   "cell_type": "markdown",
   "metadata": {},
   "source": [
    "#### A variância explicada por componente"
   ]
  },
  {
   "cell_type": "code",
   "execution_count": 7,
   "metadata": {},
   "outputs": [
    {
     "data": {
      "text/plain": [
       "array([34.82363041,  2.73504627,  2.29439284,  1.04377529,  0.943517  ])"
      ]
     },
     "execution_count": 7,
     "metadata": {},
     "output_type": "execute_result"
    }
   ],
   "source": [
    "PCA_X_train.explained_variance_[0:5]"
   ]
  },
  {
   "cell_type": "code",
   "execution_count": 8,
   "metadata": {},
   "outputs": [
    {
     "data": {
      "text/plain": [
       "array([284.88237655,  36.9176163 ,  15.74411031,  14.0471749 ,\n",
       "        10.59327893])"
      ]
     },
     "execution_count": 8,
     "metadata": {},
     "output_type": "execute_result"
    }
   ],
   "source": [
    "PCA_X_train_pad.explained_variance_[0:5]"
   ]
  },
  {
   "cell_type": "code",
   "execution_count": 9,
   "metadata": {},
   "outputs": [
    {
     "data": {
      "image/png": "[encoded data removed]",
      "text/plain": [
       "<Figure size 432x288 with 1 Axes>"
      ]
     },
     "metadata": {
      "needs_background": "light"
     },
     "output_type": "display_data"
    }
   ],
   "source": [
    "fig, ax = plt.subplots()\n",
    "ax.set_xlabel(\"Componente\")\n",
    "ax.set_ylabel(\"Variância Explicada\")\n",
    "ax.set_title(\"Variância Explicada por Componente\")\n",
    "ax.plot(PCA_X_train.explained_variance_, label=\"Não padronizado\",    drawstyle=\"steps-post\")\n",
    "ax.plot(PCA_X_train_pad.explained_variance_, label=\"Padronizado\", drawstyle=\"steps-post\")\n",
    "\n",
    "ax.legend()\n",
    "plt.show()"
   ]
  },
  {
   "cell_type": "markdown",
   "metadata": {},
   "source": [
    "#### A variância explicada acumulada por componente"
   ]
  },
  {
   "cell_type": "code",
   "execution_count": 10,
   "metadata": {},
   "outputs": [
    {
     "data": {
      "text/plain": [
       "array([34.82363041, 37.55867667, 39.85306951, 40.89684481, 41.84036181])"
      ]
     },
     "execution_count": 10,
     "metadata": {},
     "output_type": "execute_result"
    }
   ],
   "source": [
    "PCA_X_train.explained_variance_.cumsum()[0:5]"
   ]
  },
  {
   "cell_type": "code",
   "execution_count": 11,
   "metadata": {},
   "outputs": [
    {
     "data": {
      "text/plain": [
       "array([284.88237655, 321.79999285, 337.54410316, 351.59127806,\n",
       "       362.18455699, 371.85623299, 379.54760733, 386.27443311,\n",
       "       391.86120496, 397.27534074, 402.10023049, 406.58980662,\n",
       "       410.87582624, 414.49612151, 418.04346109, 421.40790202,\n",
       "       424.69957121, 427.92760668, 431.11364375, 434.07177307])"
      ]
     },
     "execution_count": 11,
     "metadata": {},
     "output_type": "execute_result"
    }
   ],
   "source": [
    "PCA_X_train_pad.explained_variance_.cumsum()[0:20]"
   ]
  },
  {
   "cell_type": "code",
   "execution_count": 12,
   "metadata": {},
   "outputs": [
    {
     "data": {
      "image/png": "[encoded data removed]",
      "text/plain": [
       "<Figure size 432x288 with 1 Axes>"
      ]
     },
     "metadata": {
      "needs_background": "light"
     },
     "output_type": "display_data"
    }
   ],
   "source": [
    "fig, ax = plt.subplots()\n",
    "ax.set_xlabel(\"Componente\")\n",
    "ax.set_ylabel(\"Variância Explicada (Acumulada)\")\n",
    "ax.set_title(\"Variância Explicada por Componente (Acumulada)\")\n",
    "ax.plot(PCA_X_train.explained_variance_.cumsum(), label=\"Não padronizado\",    drawstyle=\"steps-post\")\n",
    "ax.plot(PCA_X_train_pad.explained_variance_.cumsum(), label=\"Padronizado\", drawstyle=\"steps-post\")\n",
    "\n",
    "ax.legend()\n",
    "plt.show()"
   ]
  },
  {
   "cell_type": "markdown",
   "metadata": {},
   "source": [
    "#### A variância percentual por componente"
   ]
  },
  {
   "cell_type": "code",
   "execution_count": 13,
   "metadata": {},
   "outputs": [
    {
     "data": {
      "text/plain": [
       "array([0.6255444 , 0.04913023, 0.04121467, 0.01874956, 0.0169486 ])"
      ]
     },
     "execution_count": 13,
     "metadata": {},
     "output_type": "execute_result"
    }
   ],
   "source": [
    "PCA_X_train.explained_variance_ratio_[0:5]"
   ]
  },
  {
   "cell_type": "code",
   "execution_count": 14,
   "metadata": {},
   "outputs": [
    {
     "data": {
      "text/plain": [
       "array([0.50781172, 0.0658068 , 0.02806437, 0.02503953, 0.01888285])"
      ]
     },
     "execution_count": 14,
     "metadata": {},
     "output_type": "execute_result"
    }
   ],
   "source": [
    "PCA_X_train_pad.explained_variance_ratio_[0:5]"
   ]
  },
  {
   "cell_type": "code",
   "execution_count": 15,
   "metadata": {},
   "outputs": [
    {
     "data": {
      "image/png": "[encoded data removed]",
      "text/plain": [
       "<Figure size 432x288 with 1 Axes>"
      ]
     },
     "metadata": {
      "needs_background": "light"
     },
     "output_type": "display_data"
    }
   ],
   "source": [
    "fig, ax = plt.subplots()\n",
    "ax.set_xlabel(\"Componente\")\n",
    "ax.set_ylabel(\"Variância Percentual\")\n",
    "ax.set_title(\"Variância Percentual por Componente\")\n",
    "ax.plot(PCA_X_train.explained_variance_ratio_, label=\"Não padronizado\",    drawstyle=\"steps-post\")\n",
    "ax.plot(PCA_X_train_pad.explained_variance_ratio_, label=\"Padronizado\", drawstyle=\"steps-post\")\n",
    "\n",
    "ax.legend()\n",
    "plt.show()"
   ]
  },
  {
   "cell_type": "markdown",
   "metadata": {},
   "source": [
    "#### A variância percentual acumulada por componente"
   ]
  },
  {
   "cell_type": "code",
   "execution_count": 16,
   "metadata": {},
   "outputs": [
    {
     "data": {
      "text/plain": [
       "array([0.6255444 , 0.67467463, 0.7158893 , 0.73463886, 0.75158746,\n",
       "       0.76430816, 0.77607501, 0.78676474, 0.79645854, 0.80503872])"
      ]
     },
     "execution_count": 16,
     "metadata": {},
     "output_type": "execute_result"
    }
   ],
   "source": [
    "PCA_X_train.explained_variance_ratio_.cumsum()[0:10]"
   ]
  },
  {
   "cell_type": "code",
   "execution_count": 17,
   "metadata": {},
   "outputs": [
    {
     "data": {
      "text/plain": [
       "array([0.50781172, 0.57361853, 0.60168289, 0.62672242, 0.64560527,\n",
       "       0.66284534, 0.67655545, 0.68854623, 0.69850482, 0.70815569])"
      ]
     },
     "execution_count": 17,
     "metadata": {},
     "output_type": "execute_result"
    }
   ],
   "source": [
    "PCA_X_train_pad.explained_variance_ratio_.cumsum()[0:10]"
   ]
  },
  {
   "cell_type": "code",
   "execution_count": 18,
   "metadata": {},
   "outputs": [
    {
     "data": {
      "image/png": "[encoded data removed]",
      "text/plain": [
       "<Figure size 432x288 with 1 Axes>"
      ]
     },
     "metadata": {
      "needs_background": "light"
     },
     "output_type": "display_data"
    }
   ],
   "source": [
    "fig, ax = plt.subplots()\n",
    "ax.set_xlabel(\"Componente\")\n",
    "ax.set_ylabel(\"Variância Percentual (Acumulada)\")\n",
    "ax.set_title(\"Variância Percentual por Componente (Acumulada)\")\n",
    "ax.plot(PCA_X_train.explained_variance_ratio_.cumsum(), label=\"Não padronizado\",    drawstyle=\"steps-post\")\n",
    "ax.plot(PCA_X_train_pad.explained_variance_ratio_.cumsum(), label=\"Padronizado\", drawstyle=\"steps-post\")\n",
    "\n",
    "ax.legend()\n",
    "plt.show()"
   ]
  },
  {
   "cell_type": "markdown",
   "metadata": {},
   "source": [
    "#### Quantas componentes você escolheria, em cada caso para explicar 90% da variância?"
   ]
  },
  {
   "cell_type": "code",
   "execution_count": 19,
   "metadata": {},
   "outputs": [
    {
     "name": "stdout",
     "output_type": "stream",
     "text": [
      "Número de componentes para dados não padronizados: 34\n"
     ]
    }
   ],
   "source": [
    "ncomp_crit = (PCA_X_train.explained_variance_ratio_.cumsum()<.90).sum()+1\n",
    "\n",
    "print(f'Número de componentes para dados não padronizados: {ncomp_crit}')"
   ]
  },
  {
   "cell_type": "code",
   "execution_count": 20,
   "metadata": {},
   "outputs": [
    {
     "name": "stdout",
     "output_type": "stream",
     "text": [
      "Número de componentes para dados padronizados: 63\n"
     ]
    }
   ],
   "source": [
    "ncomp_crit = (PCA_X_train_pad.explained_variance_ratio_.cumsum()<.90).sum()+1\n",
    "\n",
    "print(f'Número de componentes para dados padronizados: {ncomp_crit}')"
   ]
  },
  {
   "cell_type": "markdown",
   "metadata": {},
   "source": [
    "**Conclusão:** Neste item observamos que padronizar a base de dados acaba aumentando a variância explicada dos componentes do PCA, portanto a base inicial acaba sendo melhor (em questão de tempo para rodar o modelo), utiliza menos componentes para explicar 90% da variância o que resulta em uma modelagem mais rápida comparada a da base de dados padronizada."
   ]
  },
  {
   "cell_type": "markdown",
   "metadata": {},
   "source": [
    "## Árvore com PCA\n",
    "\n",
    "Faça duas uma árvore de decisão com 10 componentes principais - uma com base em dados padronizados e outra sem padronizar. Utilize o ```ccp_alpha=0.001```.\n",
    "\n",
    "Compare a acurácia na base de treino e teste."
   ]
  },
  {
   "cell_type": "code",
   "execution_count": 21,
   "metadata": {},
   "outputs": [],
   "source": [
    "pc_treino = PCA_X_train.transform(X_train)\n",
    "pc_teste  = PCA_X_train.transform(X_test)"
   ]
  },
  {
   "cell_type": "code",
   "execution_count": 22,
   "metadata": {},
   "outputs": [],
   "source": [
    "n = 10\n",
    "\n",
    "colunas = ['cp'+str(x+1) for x in list(range(n))]\n",
    "\n",
    "pc_train = pd.DataFrame(pc_treino[:,:n], columns = colunas)\n",
    "pc_test  = pd.DataFrame( pc_teste[:,:n], columns = colunas)\n",
    "    \n",
    "clf = DecisionTreeClassifier(random_state=100, ccp_alpha=0.001)"
   ]
  },
  {
   "cell_type": "code",
   "execution_count": 29,
   "metadata": {},
   "outputs": [
    {
     "name": "stdout",
     "output_type": "stream",
     "text": [
      "Wall time: 78.6 ms\n"
     ]
    }
   ],
   "source": [
    "%%time\n",
    "\n",
    "clf = clf.fit(pc_train, y_train)"
   ]
  },
  {
   "cell_type": "code",
   "execution_count": 33,
   "metadata": {},
   "outputs": [],
   "source": [
    "acc_tr = clf.score(pc_train, y_train)\n",
    "acc_te = clf.score(pc_test, y_test)"
   ]
  },
  {
   "cell_type": "code",
   "execution_count": 34,
   "metadata": {},
   "outputs": [
    {
     "name": "stdout",
     "output_type": "stream",
     "text": [
      "A acurácia na base sem padronização de treinos é: 0.8926822633297062\n",
      "A acurácia na base sem padronização de testes é: 0.8238887003732609\n"
     ]
    }
   ],
   "source": [
    "print(f'A acurácia na base sem padronização de treinos é: {acc_tr}')\n",
    "print(f'A acurácia na base sem padronização de testes é: {acc_te}')"
   ]
  },
  {
   "cell_type": "code",
   "execution_count": 24,
   "metadata": {},
   "outputs": [],
   "source": [
    "pc_treino_pad = PCA_X_train_pad.transform(X_train)\n",
    "pc_teste_pad  = PCA_X_train_pad.transform(X_test)"
   ]
  },
  {
   "cell_type": "code",
   "execution_count": 27,
   "metadata": {},
   "outputs": [],
   "source": [
    "n = 10\n",
    "\n",
    "colunas = ['cp'+str(x+1) for x in list(range(n))]\n",
    "\n",
    "pc_train_pad = pd.DataFrame(pc_treino_pad[:,:n], columns = colunas)\n",
    "pc_test_pad  = pd.DataFrame( pc_teste_pad[:,:n], columns = colunas)\n",
    "    \n",
    "clf_pad = DecisionTreeClassifier(random_state=100, ccp_alpha=0.001)"
   ]
  },
  {
   "cell_type": "code",
   "execution_count": 36,
   "metadata": {},
   "outputs": [
    {
     "name": "stdout",
     "output_type": "stream",
     "text": [
      "Wall time: 73.3 ms\n"
     ]
    }
   ],
   "source": [
    "%%time\n",
    "\n",
    "clf_pad = clf_pad.fit(pc_train_pad, y_train)"
   ]
  },
  {
   "cell_type": "code",
   "execution_count": 37,
   "metadata": {},
   "outputs": [],
   "source": [
    "acc_tr_pad = clf.score(pc_train_pad, y_train)\n",
    "acc_te_pad = clf.score(pc_test_pad, y_test)"
   ]
  },
  {
   "cell_type": "code",
   "execution_count": 39,
   "metadata": {},
   "outputs": [
    {
     "name": "stdout",
     "output_type": "stream",
     "text": [
      "A acurácia na base com padronização de treinos é: 0.18865614798694233\n",
      "A acurácia na base com padronização de testes é: 0.1808618934509671\n"
     ]
    }
   ],
   "source": [
    "print(f'A acurácia na base com padronização de treinos é: {acc_tr_pad}')\n",
    "print(f'A acurácia na base com padronização de testes é: {acc_te_pad}')"
   ]
  },
  {
   "cell_type": "markdown",
   "metadata": {},
   "source": [
    "**Conclusão:** Aqui temos que a base não padronizada resultou em uma acurácia muito maior, mas isso é explicado devido a utilizarmos apenas 10 componentes principais, no item anterior observamos que a base padronizada necessitava de mais componentes para uma mesma porcentagem de variância. Agora a diferença entre as acurácias entre bases de teste e treino na base padronizada se mostrou bem inferior a diferença da base não padronizada."
   ]
  }
 ],
 "metadata": {
  "kernelspec": {
   "display_name": "Python 3 (ipykernel)",
   "language": "python",
   "name": "python3"
  },
  "language_info": {
   "codemirror_mode": {
    "name": "ipython",
    "version": 3
   },
   "file_extension": ".py",
   "mimetype": "text/x-python",
   "name": "python",
   "nbconvert_exporter": "python",
   "pygments_lexer": "ipython3",
   "version": "3.9.7"
  },
  "toc": {
   "base_numbering": 1,
   "nav_menu": {},
   "number_sections": true,
   "sideBar": true,
   "skip_h1_title": true,
   "title_cell": "Índice",
   "title_sidebar": "Conteúdo",
   "toc_cell": false,
   "toc_position": {},
   "toc_section_display": true,
   "toc_window_display": false
  },
  "varInspector": {
   "cols": {
    "lenName": 16,
    "lenType": 16,
    "lenVar": 40
   },
   "kernels_config": {
    "python": {
     "delete_cmd_postfix": "",
     "delete_cmd_prefix": "del ",
     "library": "var_list.py",
     "varRefreshCmd": "print(var_dic_list())"
    },
    "r": {
     "delete_cmd_postfix": ") ",
     "delete_cmd_prefix": "rm(",
     "library": "var_list.r",
     "varRefreshCmd": "cat(var_dic_list()) "
    }
   },
   "types_to_exclude": [
    "module",
    "function",
    "builtin_function_or_method",
    "instance",
    "_Feature"
   ],
   "window_display": false
  }
 },
 "nbformat": 4,
 "nbformat_minor": 4
}
